{
 "cells": [
  {
   "cell_type": "markdown",
   "id": "4b2f2133",
   "metadata": {},
   "source": [
    "### Unemployment Analysis with Python\n",
    "Unemployment is measured by the unemployment rate which is the number of people who are unemployed as a percentage of the total labour force. We have seen a sharp increase in the unemployment rate during Covid-19, so analyzing the unemployment rate can be a good data science project"
   ]
  },
  {
   "cell_type": "markdown",
   "id": "039d09d9",
   "metadata": {},
   "source": [
    "### Import libraries"
   ]
  },
  {
   "cell_type": "code",
   "execution_count": 1,
   "id": "8fdd3517",
   "metadata": {},
   "outputs": [],
   "source": [
    "# import libraries\n",
    "import numpy as np\n",
    "import pandas as pd"
   ]
  },
  {
   "cell_type": "markdown",
   "id": "df6848c5",
   "metadata": {},
   "source": [
    "### Loading the dataset"
   ]
  },
  {
   "cell_type": "code",
   "execution_count": 2,
   "id": "e05755ab",
   "metadata": {},
   "outputs": [
    {
     "data": {
      "text/html": [
       "<div>\n",
       "<style scoped>\n",
       "    .dataframe tbody tr th:only-of-type {\n",
       "        vertical-align: middle;\n",
       "    }\n",
       "\n",
       "    .dataframe tbody tr th {\n",
       "        vertical-align: top;\n",
       "    }\n",
       "\n",
       "    .dataframe thead th {\n",
       "        text-align: right;\n",
       "    }\n",
       "</style>\n",
       "<table border=\"1\" class=\"dataframe\">\n",
       "  <thead>\n",
       "    <tr style=\"text-align: right;\">\n",
       "      <th></th>\n",
       "      <th>Region</th>\n",
       "      <th>Date</th>\n",
       "      <th>Frequency</th>\n",
       "      <th>Estimated Unemployment Rate (%)</th>\n",
       "      <th>Estimated Employed</th>\n",
       "      <th>Estimated Labour Participation Rate (%)</th>\n",
       "      <th>Area</th>\n",
       "    </tr>\n",
       "  </thead>\n",
       "  <tbody>\n",
       "    <tr>\n",
       "      <th>0</th>\n",
       "      <td>Andhra Pradesh</td>\n",
       "      <td>31-05-2019</td>\n",
       "      <td>Monthly</td>\n",
       "      <td>3.65</td>\n",
       "      <td>11999139.0</td>\n",
       "      <td>43.24</td>\n",
       "      <td>Rural</td>\n",
       "    </tr>\n",
       "    <tr>\n",
       "      <th>1</th>\n",
       "      <td>Andhra Pradesh</td>\n",
       "      <td>30-06-2019</td>\n",
       "      <td>Monthly</td>\n",
       "      <td>3.05</td>\n",
       "      <td>11755881.0</td>\n",
       "      <td>42.05</td>\n",
       "      <td>Rural</td>\n",
       "    </tr>\n",
       "    <tr>\n",
       "      <th>2</th>\n",
       "      <td>Andhra Pradesh</td>\n",
       "      <td>31-07-2019</td>\n",
       "      <td>Monthly</td>\n",
       "      <td>3.75</td>\n",
       "      <td>12086707.0</td>\n",
       "      <td>43.50</td>\n",
       "      <td>Rural</td>\n",
       "    </tr>\n",
       "    <tr>\n",
       "      <th>3</th>\n",
       "      <td>Andhra Pradesh</td>\n",
       "      <td>31-08-2019</td>\n",
       "      <td>Monthly</td>\n",
       "      <td>3.32</td>\n",
       "      <td>12285693.0</td>\n",
       "      <td>43.97</td>\n",
       "      <td>Rural</td>\n",
       "    </tr>\n",
       "    <tr>\n",
       "      <th>4</th>\n",
       "      <td>Andhra Pradesh</td>\n",
       "      <td>30-09-2019</td>\n",
       "      <td>Monthly</td>\n",
       "      <td>5.17</td>\n",
       "      <td>12256762.0</td>\n",
       "      <td>44.68</td>\n",
       "      <td>Rural</td>\n",
       "    </tr>\n",
       "  </tbody>\n",
       "</table>\n",
       "</div>"
      ],
      "text/plain": [
       "           Region         Date  Frequency   Estimated Unemployment Rate (%)  \\\n",
       "0  Andhra Pradesh   31-05-2019    Monthly                              3.65   \n",
       "1  Andhra Pradesh   30-06-2019    Monthly                              3.05   \n",
       "2  Andhra Pradesh   31-07-2019    Monthly                              3.75   \n",
       "3  Andhra Pradesh   31-08-2019    Monthly                              3.32   \n",
       "4  Andhra Pradesh   30-09-2019    Monthly                              5.17   \n",
       "\n",
       "    Estimated Employed   Estimated Labour Participation Rate (%)   Area  \n",
       "0           11999139.0                                     43.24  Rural  \n",
       "1           11755881.0                                     42.05  Rural  \n",
       "2           12086707.0                                     43.50  Rural  \n",
       "3           12285693.0                                     43.97  Rural  \n",
       "4           12256762.0                                     44.68  Rural  "
      ]
     },
     "execution_count": 2,
     "metadata": {},
     "output_type": "execute_result"
    }
   ],
   "source": [
    "dataset = pd.read_csv(r\"C:\\Users\\Harbiodun\\Documents\\Data Science and AI\\OIBSIP\\documents\\Unemployment\\Unemployment in India.csv\")\n",
    "dataset.head()"
   ]
  },
  {
   "cell_type": "code",
   "execution_count": 3,
   "id": "f652f6e2",
   "metadata": {},
   "outputs": [],
   "source": [
    "dataset.columns = ['Region', 'Date', 'Frequency', 'Estimated Unemployment Rate (%)',\n",
    "       'Estimated Employed', 'Estimated Labour Participation Rate (%)', 'Area']"
   ]
  },
  {
   "cell_type": "code",
   "execution_count": 4,
   "id": "6e327305",
   "metadata": {},
   "outputs": [
    {
     "data": {
      "text/plain": [
       "(768, 7)"
      ]
     },
     "execution_count": 4,
     "metadata": {},
     "output_type": "execute_result"
    }
   ],
   "source": [
    "dataset.shape"
   ]
  },
  {
   "cell_type": "markdown",
   "id": "ea21d3af",
   "metadata": {},
   "source": [
    "### Exploratory Data Analysis"
   ]
  },
  {
   "cell_type": "code",
   "execution_count": 5,
   "id": "873edd1d",
   "metadata": {},
   "outputs": [
    {
     "data": {
      "text/plain": [
       "Region                                     28\n",
       "Date                                       28\n",
       "Frequency                                  28\n",
       "Estimated Unemployment Rate (%)            28\n",
       "Estimated Employed                         28\n",
       "Estimated Labour Participation Rate (%)    28\n",
       "Area                                       28\n",
       "dtype: int64"
      ]
     },
     "execution_count": 5,
     "metadata": {},
     "output_type": "execute_result"
    }
   ],
   "source": [
    "# check sum of null rows in a column\n",
    "dataset.isnull().sum()"
   ]
  },
  {
   "cell_type": "code",
   "execution_count": 6,
   "id": "723b907e",
   "metadata": {},
   "outputs": [
    {
     "data": {
      "text/plain": [
       "Index(['Region', 'Date', 'Frequency', 'Estimated Unemployment Rate (%)',\n",
       "       'Estimated Employed', 'Estimated Labour Participation Rate (%)',\n",
       "       'Area'],\n",
       "      dtype='object')"
      ]
     },
     "execution_count": 6,
     "metadata": {},
     "output_type": "execute_result"
    }
   ],
   "source": [
    "# check the number of columns in the dataset\n",
    "dataset.columns"
   ]
  },
  {
   "cell_type": "code",
   "execution_count": 7,
   "id": "1ac8a7c8",
   "metadata": {},
   "outputs": [],
   "source": [
    "# drop the frequency column \n",
    "dataset = dataset.drop(columns='Frequency', axis=0)"
   ]
  },
  {
   "cell_type": "code",
   "execution_count": 8,
   "id": "eaca20f8",
   "metadata": {},
   "outputs": [
    {
     "data": {
      "text/html": [
       "<div>\n",
       "<style scoped>\n",
       "    .dataframe tbody tr th:only-of-type {\n",
       "        vertical-align: middle;\n",
       "    }\n",
       "\n",
       "    .dataframe tbody tr th {\n",
       "        vertical-align: top;\n",
       "    }\n",
       "\n",
       "    .dataframe thead th {\n",
       "        text-align: right;\n",
       "    }\n",
       "</style>\n",
       "<table border=\"1\" class=\"dataframe\">\n",
       "  <thead>\n",
       "    <tr style=\"text-align: right;\">\n",
       "      <th></th>\n",
       "      <th>Region</th>\n",
       "      <th>Date</th>\n",
       "      <th>Estimated Unemployment Rate (%)</th>\n",
       "      <th>Estimated Employed</th>\n",
       "      <th>Estimated Labour Participation Rate (%)</th>\n",
       "      <th>Area</th>\n",
       "    </tr>\n",
       "  </thead>\n",
       "  <tbody>\n",
       "    <tr>\n",
       "      <th>0</th>\n",
       "      <td>Andhra Pradesh</td>\n",
       "      <td>31-05-2019</td>\n",
       "      <td>3.65</td>\n",
       "      <td>11999139.0</td>\n",
       "      <td>43.24</td>\n",
       "      <td>Rural</td>\n",
       "    </tr>\n",
       "    <tr>\n",
       "      <th>1</th>\n",
       "      <td>Andhra Pradesh</td>\n",
       "      <td>30-06-2019</td>\n",
       "      <td>3.05</td>\n",
       "      <td>11755881.0</td>\n",
       "      <td>42.05</td>\n",
       "      <td>Rural</td>\n",
       "    </tr>\n",
       "    <tr>\n",
       "      <th>2</th>\n",
       "      <td>Andhra Pradesh</td>\n",
       "      <td>31-07-2019</td>\n",
       "      <td>3.75</td>\n",
       "      <td>12086707.0</td>\n",
       "      <td>43.50</td>\n",
       "      <td>Rural</td>\n",
       "    </tr>\n",
       "    <tr>\n",
       "      <th>3</th>\n",
       "      <td>Andhra Pradesh</td>\n",
       "      <td>31-08-2019</td>\n",
       "      <td>3.32</td>\n",
       "      <td>12285693.0</td>\n",
       "      <td>43.97</td>\n",
       "      <td>Rural</td>\n",
       "    </tr>\n",
       "    <tr>\n",
       "      <th>4</th>\n",
       "      <td>Andhra Pradesh</td>\n",
       "      <td>30-09-2019</td>\n",
       "      <td>5.17</td>\n",
       "      <td>12256762.0</td>\n",
       "      <td>44.68</td>\n",
       "      <td>Rural</td>\n",
       "    </tr>\n",
       "  </tbody>\n",
       "</table>\n",
       "</div>"
      ],
      "text/plain": [
       "           Region         Date  Estimated Unemployment Rate (%)  \\\n",
       "0  Andhra Pradesh   31-05-2019                             3.65   \n",
       "1  Andhra Pradesh   30-06-2019                             3.05   \n",
       "2  Andhra Pradesh   31-07-2019                             3.75   \n",
       "3  Andhra Pradesh   31-08-2019                             3.32   \n",
       "4  Andhra Pradesh   30-09-2019                             5.17   \n",
       "\n",
       "   Estimated Employed  Estimated Labour Participation Rate (%)   Area  \n",
       "0          11999139.0                                    43.24  Rural  \n",
       "1          11755881.0                                    42.05  Rural  \n",
       "2          12086707.0                                    43.50  Rural  \n",
       "3          12285693.0                                    43.97  Rural  \n",
       "4          12256762.0                                    44.68  Rural  "
      ]
     },
     "execution_count": 8,
     "metadata": {},
     "output_type": "execute_result"
    }
   ],
   "source": [
    "dataset.head()"
   ]
  },
  {
   "cell_type": "markdown",
   "id": "25c78bdd",
   "metadata": {},
   "source": [
    "Remove null rows"
   ]
  },
  {
   "cell_type": "code",
   "execution_count": 9,
   "id": "dfde3963",
   "metadata": {},
   "outputs": [],
   "source": [
    "# remove null rows\n",
    "dataset = dataset.dropna(subset=['Region'])"
   ]
  },
  {
   "cell_type": "code",
   "execution_count": 10,
   "id": "d4c2a98f",
   "metadata": {},
   "outputs": [
    {
     "data": {
      "text/plain": [
       "(740, 6)"
      ]
     },
     "execution_count": 10,
     "metadata": {},
     "output_type": "execute_result"
    }
   ],
   "source": [
    "dataset.shape"
   ]
  },
  {
   "cell_type": "code",
   "execution_count": 11,
   "id": "3ab8e298",
   "metadata": {},
   "outputs": [
    {
     "data": {
      "text/plain": [
       "Region                                     0\n",
       "Date                                       0\n",
       "Estimated Unemployment Rate (%)            0\n",
       "Estimated Employed                         0\n",
       "Estimated Labour Participation Rate (%)    0\n",
       "Area                                       0\n",
       "dtype: int64"
      ]
     },
     "execution_count": 11,
     "metadata": {},
     "output_type": "execute_result"
    }
   ],
   "source": [
    "# check if there are still null rows or columns\n",
    "dataset.isna().sum()"
   ]
  },
  {
   "cell_type": "code",
   "execution_count": 12,
   "id": "f29bbacb",
   "metadata": {},
   "outputs": [
    {
     "data": {
      "text/plain": [
       "Region                                      object\n",
       "Date                                        object\n",
       "Estimated Unemployment Rate (%)            float64\n",
       "Estimated Employed                         float64\n",
       "Estimated Labour Participation Rate (%)    float64\n",
       "Area                                        object\n",
       "dtype: object"
      ]
     },
     "execution_count": 12,
     "metadata": {},
     "output_type": "execute_result"
    }
   ],
   "source": [
    "# check data type of each column\n",
    "dataset.dtypes"
   ]
  },
  {
   "cell_type": "code",
   "execution_count": 13,
   "id": "dbd59a59",
   "metadata": {},
   "outputs": [
    {
     "data": {
      "text/html": [
       "<div>\n",
       "<style scoped>\n",
       "    .dataframe tbody tr th:only-of-type {\n",
       "        vertical-align: middle;\n",
       "    }\n",
       "\n",
       "    .dataframe tbody tr th {\n",
       "        vertical-align: top;\n",
       "    }\n",
       "\n",
       "    .dataframe thead th {\n",
       "        text-align: right;\n",
       "    }\n",
       "</style>\n",
       "<table border=\"1\" class=\"dataframe\">\n",
       "  <thead>\n",
       "    <tr style=\"text-align: right;\">\n",
       "      <th></th>\n",
       "      <th>Region</th>\n",
       "      <th>Date</th>\n",
       "      <th>Estimated Unemployment Rate (%)</th>\n",
       "      <th>Estimated Employed</th>\n",
       "      <th>Estimated Labour Participation Rate (%)</th>\n",
       "      <th>Area</th>\n",
       "    </tr>\n",
       "  </thead>\n",
       "  <tbody>\n",
       "    <tr>\n",
       "      <th>0</th>\n",
       "      <td>Andhra Pradesh</td>\n",
       "      <td>31-05-2019</td>\n",
       "      <td>3.65</td>\n",
       "      <td>11999139.0</td>\n",
       "      <td>43.24</td>\n",
       "      <td>Rural</td>\n",
       "    </tr>\n",
       "    <tr>\n",
       "      <th>1</th>\n",
       "      <td>Andhra Pradesh</td>\n",
       "      <td>30-06-2019</td>\n",
       "      <td>3.05</td>\n",
       "      <td>11755881.0</td>\n",
       "      <td>42.05</td>\n",
       "      <td>Rural</td>\n",
       "    </tr>\n",
       "    <tr>\n",
       "      <th>2</th>\n",
       "      <td>Andhra Pradesh</td>\n",
       "      <td>31-07-2019</td>\n",
       "      <td>3.75</td>\n",
       "      <td>12086707.0</td>\n",
       "      <td>43.50</td>\n",
       "      <td>Rural</td>\n",
       "    </tr>\n",
       "    <tr>\n",
       "      <th>3</th>\n",
       "      <td>Andhra Pradesh</td>\n",
       "      <td>31-08-2019</td>\n",
       "      <td>3.32</td>\n",
       "      <td>12285693.0</td>\n",
       "      <td>43.97</td>\n",
       "      <td>Rural</td>\n",
       "    </tr>\n",
       "    <tr>\n",
       "      <th>4</th>\n",
       "      <td>Andhra Pradesh</td>\n",
       "      <td>30-09-2019</td>\n",
       "      <td>5.17</td>\n",
       "      <td>12256762.0</td>\n",
       "      <td>44.68</td>\n",
       "      <td>Rural</td>\n",
       "    </tr>\n",
       "  </tbody>\n",
       "</table>\n",
       "</div>"
      ],
      "text/plain": [
       "           Region         Date  Estimated Unemployment Rate (%)  \\\n",
       "0  Andhra Pradesh   31-05-2019                             3.65   \n",
       "1  Andhra Pradesh   30-06-2019                             3.05   \n",
       "2  Andhra Pradesh   31-07-2019                             3.75   \n",
       "3  Andhra Pradesh   31-08-2019                             3.32   \n",
       "4  Andhra Pradesh   30-09-2019                             5.17   \n",
       "\n",
       "   Estimated Employed  Estimated Labour Participation Rate (%)   Area  \n",
       "0          11999139.0                                    43.24  Rural  \n",
       "1          11755881.0                                    42.05  Rural  \n",
       "2          12086707.0                                    43.50  Rural  \n",
       "3          12285693.0                                    43.97  Rural  \n",
       "4          12256762.0                                    44.68  Rural  "
      ]
     },
     "execution_count": 13,
     "metadata": {},
     "output_type": "execute_result"
    }
   ],
   "source": [
    "dataset.head()"
   ]
  },
  {
   "cell_type": "code",
   "execution_count": 14,
   "id": "69511435",
   "metadata": {},
   "outputs": [],
   "source": [
    "# convert the Date column from string to datetime format\n",
    "dataset['Date'] = pd.to_datetime(dataset['Date'])"
   ]
  },
  {
   "cell_type": "code",
   "execution_count": 15,
   "id": "7061aca7",
   "metadata": {},
   "outputs": [],
   "source": [
    "# extract the year from the date\n",
    "dataset['Year'] = dataset['Date'].dt.year\n",
    "\n",
    "# convert the year datatype to string\n",
    "dataset['Year'] = dataset['Year'].astype(str)"
   ]
  },
  {
   "cell_type": "code",
   "execution_count": 16,
   "id": "b51c5146",
   "metadata": {},
   "outputs": [],
   "source": [
    "# drop the date column\n",
    "dataset = dataset.drop(columns='Date', axis=0)"
   ]
  },
  {
   "cell_type": "code",
   "execution_count": 17,
   "id": "68cd836a",
   "metadata": {},
   "outputs": [
    {
     "data": {
      "text/html": [
       "<div>\n",
       "<style scoped>\n",
       "    .dataframe tbody tr th:only-of-type {\n",
       "        vertical-align: middle;\n",
       "    }\n",
       "\n",
       "    .dataframe tbody tr th {\n",
       "        vertical-align: top;\n",
       "    }\n",
       "\n",
       "    .dataframe thead th {\n",
       "        text-align: right;\n",
       "    }\n",
       "</style>\n",
       "<table border=\"1\" class=\"dataframe\">\n",
       "  <thead>\n",
       "    <tr style=\"text-align: right;\">\n",
       "      <th></th>\n",
       "      <th>Region</th>\n",
       "      <th>Estimated Unemployment Rate (%)</th>\n",
       "      <th>Estimated Employed</th>\n",
       "      <th>Estimated Labour Participation Rate (%)</th>\n",
       "      <th>Area</th>\n",
       "      <th>Year</th>\n",
       "    </tr>\n",
       "  </thead>\n",
       "  <tbody>\n",
       "    <tr>\n",
       "      <th>0</th>\n",
       "      <td>Andhra Pradesh</td>\n",
       "      <td>3.65</td>\n",
       "      <td>11999139.0</td>\n",
       "      <td>43.24</td>\n",
       "      <td>Rural</td>\n",
       "      <td>2019</td>\n",
       "    </tr>\n",
       "    <tr>\n",
       "      <th>1</th>\n",
       "      <td>Andhra Pradesh</td>\n",
       "      <td>3.05</td>\n",
       "      <td>11755881.0</td>\n",
       "      <td>42.05</td>\n",
       "      <td>Rural</td>\n",
       "      <td>2019</td>\n",
       "    </tr>\n",
       "    <tr>\n",
       "      <th>2</th>\n",
       "      <td>Andhra Pradesh</td>\n",
       "      <td>3.75</td>\n",
       "      <td>12086707.0</td>\n",
       "      <td>43.50</td>\n",
       "      <td>Rural</td>\n",
       "      <td>2019</td>\n",
       "    </tr>\n",
       "    <tr>\n",
       "      <th>3</th>\n",
       "      <td>Andhra Pradesh</td>\n",
       "      <td>3.32</td>\n",
       "      <td>12285693.0</td>\n",
       "      <td>43.97</td>\n",
       "      <td>Rural</td>\n",
       "      <td>2019</td>\n",
       "    </tr>\n",
       "    <tr>\n",
       "      <th>4</th>\n",
       "      <td>Andhra Pradesh</td>\n",
       "      <td>5.17</td>\n",
       "      <td>12256762.0</td>\n",
       "      <td>44.68</td>\n",
       "      <td>Rural</td>\n",
       "      <td>2019</td>\n",
       "    </tr>\n",
       "    <tr>\n",
       "      <th>...</th>\n",
       "      <td>...</td>\n",
       "      <td>...</td>\n",
       "      <td>...</td>\n",
       "      <td>...</td>\n",
       "      <td>...</td>\n",
       "      <td>...</td>\n",
       "    </tr>\n",
       "    <tr>\n",
       "      <th>749</th>\n",
       "      <td>West Bengal</td>\n",
       "      <td>7.55</td>\n",
       "      <td>10871168.0</td>\n",
       "      <td>44.09</td>\n",
       "      <td>Urban</td>\n",
       "      <td>2020</td>\n",
       "    </tr>\n",
       "    <tr>\n",
       "      <th>750</th>\n",
       "      <td>West Bengal</td>\n",
       "      <td>6.67</td>\n",
       "      <td>10806105.0</td>\n",
       "      <td>43.34</td>\n",
       "      <td>Urban</td>\n",
       "      <td>2020</td>\n",
       "    </tr>\n",
       "    <tr>\n",
       "      <th>751</th>\n",
       "      <td>West Bengal</td>\n",
       "      <td>15.63</td>\n",
       "      <td>9299466.0</td>\n",
       "      <td>41.20</td>\n",
       "      <td>Urban</td>\n",
       "      <td>2020</td>\n",
       "    </tr>\n",
       "    <tr>\n",
       "      <th>752</th>\n",
       "      <td>West Bengal</td>\n",
       "      <td>15.22</td>\n",
       "      <td>9240903.0</td>\n",
       "      <td>40.67</td>\n",
       "      <td>Urban</td>\n",
       "      <td>2020</td>\n",
       "    </tr>\n",
       "    <tr>\n",
       "      <th>753</th>\n",
       "      <td>West Bengal</td>\n",
       "      <td>9.86</td>\n",
       "      <td>9088931.0</td>\n",
       "      <td>37.57</td>\n",
       "      <td>Urban</td>\n",
       "      <td>2020</td>\n",
       "    </tr>\n",
       "  </tbody>\n",
       "</table>\n",
       "<p>740 rows × 6 columns</p>\n",
       "</div>"
      ],
      "text/plain": [
       "             Region  Estimated Unemployment Rate (%)  Estimated Employed  \\\n",
       "0    Andhra Pradesh                             3.65          11999139.0   \n",
       "1    Andhra Pradesh                             3.05          11755881.0   \n",
       "2    Andhra Pradesh                             3.75          12086707.0   \n",
       "3    Andhra Pradesh                             3.32          12285693.0   \n",
       "4    Andhra Pradesh                             5.17          12256762.0   \n",
       "..              ...                              ...                 ...   \n",
       "749     West Bengal                             7.55          10871168.0   \n",
       "750     West Bengal                             6.67          10806105.0   \n",
       "751     West Bengal                            15.63           9299466.0   \n",
       "752     West Bengal                            15.22           9240903.0   \n",
       "753     West Bengal                             9.86           9088931.0   \n",
       "\n",
       "     Estimated Labour Participation Rate (%)   Area  Year  \n",
       "0                                      43.24  Rural  2019  \n",
       "1                                      42.05  Rural  2019  \n",
       "2                                      43.50  Rural  2019  \n",
       "3                                      43.97  Rural  2019  \n",
       "4                                      44.68  Rural  2019  \n",
       "..                                       ...    ...   ...  \n",
       "749                                    44.09  Urban  2020  \n",
       "750                                    43.34  Urban  2020  \n",
       "751                                    41.20  Urban  2020  \n",
       "752                                    40.67  Urban  2020  \n",
       "753                                    37.57  Urban  2020  \n",
       "\n",
       "[740 rows x 6 columns]"
      ]
     },
     "execution_count": 17,
     "metadata": {},
     "output_type": "execute_result"
    }
   ],
   "source": [
    "dataset"
   ]
  },
  {
   "cell_type": "code",
   "execution_count": 18,
   "id": "3258337f",
   "metadata": {},
   "outputs": [
    {
     "data": {
      "text/plain": [
       "array(['Andhra Pradesh', 'Assam', 'Bihar', 'Chhattisgarh', 'Delhi', 'Goa',\n",
       "       'Gujarat', 'Haryana', 'Himachal Pradesh', 'Jammu & Kashmir',\n",
       "       'Jharkhand', 'Karnataka', 'Kerala', 'Madhya Pradesh',\n",
       "       'Maharashtra', 'Meghalaya', 'Odisha', 'Puducherry', 'Punjab',\n",
       "       'Rajasthan', 'Sikkim', 'Tamil Nadu', 'Telangana', 'Tripura',\n",
       "       'Uttar Pradesh', 'Uttarakhand', 'West Bengal', 'Chandigarh'],\n",
       "      dtype=object)"
      ]
     },
     "execution_count": 18,
     "metadata": {},
     "output_type": "execute_result"
    }
   ],
   "source": [
    "# check the distinct regions in the dataset\n",
    "dataset['Region'].unique()"
   ]
  },
  {
   "cell_type": "code",
   "execution_count": 19,
   "id": "46d11951",
   "metadata": {},
   "outputs": [
    {
     "data": {
      "text/plain": [
       "array(['Rural', 'Urban'], dtype=object)"
      ]
     },
     "execution_count": 19,
     "metadata": {},
     "output_type": "execute_result"
    }
   ],
   "source": [
    "# check the areas in the dataset\n",
    "dataset['Area'].unique()"
   ]
  },
  {
   "cell_type": "code",
   "execution_count": 20,
   "id": "74fb51d6",
   "metadata": {},
   "outputs": [
    {
     "data": {
      "text/plain": [
       "array(['2019', '2020'], dtype=object)"
      ]
     },
     "execution_count": 20,
     "metadata": {},
     "output_type": "execute_result"
    }
   ],
   "source": [
    "# check the years in the dataset\n",
    "dataset['Year'].unique()"
   ]
  },
  {
   "cell_type": "markdown",
   "id": "15251e58",
   "metadata": {},
   "source": [
    "### Data Visualisation\n",
    "Plot a bar chart of unemployment against other columns"
   ]
  },
  {
   "cell_type": "code",
   "execution_count": 21,
   "id": "4eb7e8ad",
   "metadata": {},
   "outputs": [
    {
     "name": "stderr",
     "output_type": "stream",
     "text": [
      "C:\\Users\\Harbiodun\\anaconda3\\lib\\site-packages\\scipy\\__init__.py:146: UserWarning: A NumPy version >=1.16.5 and <1.23.0 is required for this version of SciPy (detected version 1.26.1\n",
      "  warnings.warn(f\"A NumPy version >={np_minversion} and <{np_maxversion}\"\n"
     ]
    }
   ],
   "source": [
    "import seaborn as sns\n",
    "import matplotlib.pyplot as plt"
   ]
  },
  {
   "cell_type": "code",
   "execution_count": 22,
   "id": "e77952f3",
   "metadata": {},
   "outputs": [],
   "source": [
    "def plot_graph(X, y):\n",
    "    plt.figure(figsize=(10,5))\n",
    "    plt.xlabel(X)\n",
    "    plt.ylabel(y)\n",
    "    plt.title(X +' vs '+ y)\n",
    "    plt.xticks(rotation=90)\n",
    "    return plt.bar(dataset[X], dataset[y])"
   ]
  },
  {
   "cell_type": "markdown",
   "id": "952c5ed7",
   "metadata": {},
   "source": [
    "How unemployment rate has gone over the years"
   ]
  },
  {
   "cell_type": "code",
   "execution_count": 23,
   "id": "ed34db9e",
   "metadata": {},
   "outputs": [
    {
     "data": {
      "text/plain": [
       "<BarContainer object of 740 artists>"
      ]
     },
     "execution_count": 23,
     "metadata": {},
     "output_type": "execute_result"
    },
    {
     "data": {
      "image/png": "[encoded data removed]",
      "text/plain": [
       "<Figure size 720x360 with 1 Axes>"
      ]
     },
     "metadata": {
      "needs_background": "light"
     },
     "output_type": "display_data"
    }
   ],
   "source": [
    "plot_graph('Year', 'Estimated Unemployment Rate (%)')"
   ]
  },
  {
   "cell_type": "markdown",
   "id": "3977ec07",
   "metadata": {},
   "source": [
    "Unemployement rate relating to the area"
   ]
  },
  {
   "cell_type": "code",
   "execution_count": 24,
   "id": "4ceab026",
   "metadata": {},
   "outputs": [
    {
     "data": {
      "text/plain": [
       "<BarContainer object of 740 artists>"
      ]
     },
     "execution_count": 24,
     "metadata": {},
     "output_type": "execute_result"
    },
    {
     "data": {
      "image/png": "[encoded data removed]",
      "text/plain": [
       "<Figure size 720x360 with 1 Axes>"
      ]
     },
     "metadata": {
      "needs_background": "light"
     },
     "output_type": "display_data"
    }
   ],
   "source": [
    "plot_graph('Area', 'Estimated Unemployment Rate (%)')"
   ]
  },
  {
   "cell_type": "markdown",
   "id": "ce37387c",
   "metadata": {},
   "source": [
    "Unemployment rate relating to the region"
   ]
  },
  {
   "cell_type": "code",
   "execution_count": 25,
   "id": "1c3d07ec",
   "metadata": {},
   "outputs": [
    {
     "data": {
      "text/plain": [
       "<BarContainer object of 740 artists>"
      ]
     },
     "execution_count": 25,
     "metadata": {},
     "output_type": "execute_result"
    },
    {
     "data": {
      "image/png": "[encoded data removed]",
      "text/plain": [
       "<Figure size 720x360 with 1 Axes>"
      ]
     },
     "metadata": {
      "needs_background": "light"
     },
     "output_type": "display_data"
    }
   ],
   "source": [
    "plot_graph('Region', 'Estimated Unemployment Rate (%)')"
   ]
  },
  {
   "cell_type": "markdown",
   "id": "247102c8",
   "metadata": {},
   "source": [
    "Labour Participation Rate relating to the region"
   ]
  },
  {
   "cell_type": "code",
   "execution_count": 26,
   "id": "b8f86e54",
   "metadata": {},
   "outputs": [
    {
     "data": {
      "text/plain": [
       "<BarContainer object of 740 artists>"
      ]
     },
     "execution_count": 26,
     "metadata": {},
     "output_type": "execute_result"
    },
    {
     "data": {
      "image/png": "[encoded data removed]",
      "text/plain": [
       "<Figure size 720x360 with 1 Axes>"
      ]
     },
     "metadata": {
      "needs_background": "light"
     },
     "output_type": "display_data"
    }
   ],
   "source": [
    "plot_graph('Region', 'Estimated Labour Participation Rate (%)')"
   ]
  },
  {
   "cell_type": "markdown",
   "id": "a634bcc1",
   "metadata": {},
   "source": [
    "Estimated Labour Participation Rate over the years"
   ]
  },
  {
   "cell_type": "code",
   "execution_count": 27,
   "id": "ff67a784",
   "metadata": {},
   "outputs": [
    {
     "data": {
      "text/plain": [
       "<BarContainer object of 740 artists>"
      ]
     },
     "execution_count": 27,
     "metadata": {},
     "output_type": "execute_result"
    },
    {
     "data": {
      "image/png": "[encoded data removed]",
      "text/plain": [
       "<Figure size 720x360 with 1 Axes>"
      ]
     },
     "metadata": {
      "needs_background": "light"
     },
     "output_type": "display_data"
    }
   ],
   "source": [
    "plot_graph('Year', 'Estimated Labour Participation Rate (%)')"
   ]
  },
  {
   "cell_type": "markdown",
   "id": "f6d6257d",
   "metadata": {},
   "source": [
    "Average Estimated Labour Participation Rate of each area"
   ]
  },
  {
   "cell_type": "code",
   "execution_count": 28,
   "id": "04339714",
   "metadata": {},
   "outputs": [
    {
     "data": {
      "text/plain": [
       "Area\n",
       "Rural    44.464819\n",
       "Urban    40.901365\n",
       "Name: Estimated Labour Participation Rate (%), dtype: float64"
      ]
     },
     "execution_count": 28,
     "metadata": {},
     "output_type": "execute_result"
    }
   ],
   "source": [
    "area_average = dataset.groupby('Area')['Estimated Labour Participation Rate (%)'].mean()\n",
    "area_average"
   ]
  },
  {
   "cell_type": "code",
   "execution_count": 29,
   "id": "7af76565",
   "metadata": {},
   "outputs": [
    {
     "data": {
      "image/png": "[encoded data removed]",
      "text/plain": [
       "<Figure size 720x360 with 1 Axes>"
      ]
     },
     "metadata": {
      "needs_background": "light"
     },
     "output_type": "display_data"
    }
   ],
   "source": [
    "length = len(dataset['Year'].unique())\n",
    "\n",
    "# width of each bar\n",
    "bar_width = 0.35\n",
    "\n",
    "# positions for the bars\n",
    "x = np.arange(length)\n",
    "\n",
    "# plotting the bar chart\n",
    "plt.figure(figsize=(10,5))\n",
    "plt.bar(x-bar_width/2, area_average[0], width=bar_width, label='Rural')\n",
    "plt.bar(x+bar_width/2, area_average[1], width=bar_width, label='Urban')\n",
    "\n",
    "# Adding labels and title\n",
    "plt.xlabel('Year')\n",
    "plt.ylabel('Average Estimated Labour Participation Rate')\n",
    "plt.xticks(x, dataset['Year'].unique())\n",
    "plt.title('Yearly Average Estimated Labour Participation Rate in Urban and Rural Areas')\n",
    "plt.legend(loc='upper center')\n",
    "\n",
    "plt.show()"
   ]
  },
  {
   "cell_type": "markdown",
   "id": "e68032e4",
   "metadata": {},
   "source": [
    "### Observations\n",
    "From the analysis of the dataset, it was found out that:\n",
    "1. The average estimated labour participation rate is much more in the rural areas than in the urban.\n",
    "2. Labour participation rate is almost the same over the two years.\n",
    "3. The region with the highest labour participation rate is Telegana.\n",
    "4. The region with the highest unemployment rate is Puducherry.\n",
    "5. The unemployment rate in the urban areas is more than the rural areas.\n",
    "6. The unemployment rate increased over the years."
   ]
  }
 ],
 "metadata": {
  "kernelspec": {
   "display_name": "Python 3 (ipykernel)",
   "language": "python",
   "name": "python3"
  },
  "language_info": {
   "codemirror_mode": {
    "name": "ipython",
    "version": 3
   },
   "file_extension": ".py",
   "mimetype": "text/x-python",
   "name": "python",
   "nbconvert_exporter": "python",
   "pygments_lexer": "ipython3",
   "version": "3.9.12"
  }
 },
 "nbformat": 4,
 "nbformat_minor": 5
}
